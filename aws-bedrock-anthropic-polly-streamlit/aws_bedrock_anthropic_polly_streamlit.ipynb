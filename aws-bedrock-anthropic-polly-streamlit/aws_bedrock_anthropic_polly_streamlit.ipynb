{
  "nbformat": 4,
  "nbformat_minor": 0,
  "metadata": {
    "colab": {
      "provenance": []
    },
    "kernelspec": {
      "name": "python3",
      "display_name": "Python 3"
    },
    "language_info": {
      "name": "python"
    }
  },
  "cells": [
    {
      "cell_type": "markdown",
      "source": [
        "# How to run Streamlit app from Colab notebook\n",
        "\n",
        "This tutorial has the sample code to run a Streamlit app from Colab notebook.\n",
        "\n",
        "### References\n",
        "\n",
        "- https://www.google.com/search?q=launch+streamlit+app+from+Google+colab&oq=launch+streamlit+app+from+Google+colab&gs_lcrp=EgZjaHJvbWUyBggAEEUYOTIGCAEQRRg80gEJMTE2NzNqMGo3qAIAsAIA&sourceid=chrome&ie=UTF-8#fpstate=ive&vld=cid:df17f4e1,vid:CzG1_S8mcFc,st:0\n",
        "\n",
        "- https://alphasec.io/run-a-streamlit-app-with-google-colab-notebook/\n",
        "\n",
        "\n",
        "- https://discuss.streamlit.io/t/how-to-launch-streamlit-app-from-google-colab-notebook/42399\n",
        "\n",
        "\n",
        "- https://medium.com/@yash.kavaiya3/running-streamlit-code-in-google-colab-involves-a-few-steps-c43ea0e8c0d9\n",
        "\n",
        "\n",
        "\n",
        "### How to run\n",
        "To open the notebook in Colab, please click on the badge here:"
      ],
      "metadata": {
        "id": "b2JgDD0LABj4"
      }
    },
    {
      "cell_type": "markdown",
      "source": [
        "[![Open In Colab](https://colab.research.google.com/assets/colab-badge.svg)](https://colab.research.google.com/github/datariders/tutorials/blob/main/aws-bedrock-anthropic-polly-streamlit/aws_bedrock_anthropic_polly_streamlit.ipynb)"
      ],
      "metadata": {
        "id": "a_cAJX-b-xJ1"
      }
    },
    {
      "cell_type": "code",
      "execution_count": null,
      "metadata": {
        "id": "dw8meXy8308T"
      },
      "outputs": [],
      "source": [
        "!pip3 install -q boto3 streamlit\n",
        "!npm install localtunnel"
      ]
    },
    {
      "cell_type": "code",
      "source": [
        "!wget -q -O - ipv4.icanhazip.com"
      ],
      "metadata": {
        "id": "m9AchVth4Owr"
      },
      "execution_count": null,
      "outputs": []
    },
    {
      "cell_type": "code",
      "source": [
        "AWS_ACCESS_KEY_ID = \"<aws_access_key_id>\"\n",
        "AWS_SECRET_ACCESS_KEY = \"<aws_secret_access_key>\""
      ],
      "metadata": {
        "id": "OVefEPeOau0T"
      },
      "execution_count": 3,
      "outputs": []
    },
    {
      "cell_type": "code",
      "source": [
        "%%writefile app.py\n",
        "import boto3\n",
        "import json\n",
        "import os\n",
        "from botocore.exceptions import ClientError\n",
        "import streamlit as st\n",
        "\n",
        "\n",
        "\n",
        "MODEL_ID = \"anthropic.claude-3-5-sonnet-20240620-v1:0\"\n",
        "\n",
        "# Set up the Amazon Bedrock client\n",
        "bedrock_runtime_client = boto3.client(\n",
        "    service_name='bedrock-runtime',\n",
        "    region_name='us-east-1',  # Replace with your AWS region\n",
        "    aws_access_key_id=os.environ.get(\"AWS_ACCESS_KEY_ID\"),\n",
        "    aws_secret_access_key=os.environ.get(\"AWS_SECRET_ACCESS_KEY\")\n",
        ")\n",
        "print(\" bedrock_runtime_client: \", bedrock_runtime_client)\n",
        "\n",
        "# Set up the Amazon Polly client\n",
        "polly_client = boto3.client(\n",
        "    service_name='polly',\n",
        "    region_name='us-east-1',  # Replace with your AWS region\n",
        "    aws_access_key_id=os.environ.get(\"AWS_ACCESS_KEY_ID\"),\n",
        "    aws_secret_access_key=os.environ.get(\"AWS_SECRET_ACCESS_KEY\")\n",
        ")\n",
        "print(\" polly_client: \", polly_client)\n",
        "\n",
        "# Specify the Claude 3.5 Sonnet model ID\n",
        "model_id = MODEL_ID\n",
        "print(\" model_id: \", model_id)\n",
        "\n",
        "\n",
        "\n",
        "def generate_speech(text, voice_id='Joanna'):\n",
        "    try:\n",
        "        # Call Polly to synthesize the text into speech\n",
        "        response = polly_client.synthesize_speech(\n",
        "            Text=text,\n",
        "            OutputFormat='mp3',  # You can also use 'ogg_vorbis' or 'pcm'\n",
        "            VoiceId=voice_id\n",
        "        )\n",
        "\n",
        "        # Save the speech to an MP3 file\n",
        "        audio_file = \"output_speech.mp3\"\n",
        "        with open(audio_file, 'wb') as file:\n",
        "            file.write(response['AudioStream'].read())\n",
        "\n",
        "        return audio_file\n",
        "    except ClientError as e:\n",
        "        st.error(f\"Polly error: {e}\")\n",
        "        return None\n",
        "\n",
        "\n",
        "st.title(\"MathNEXT: Personal Math Tutor\")\n",
        "\n",
        "user_query = st.text_input(\"Enter your query:\")\n",
        "if user_query:\n",
        "    print(\" user_query: \", user_query)\n",
        "    if user_query.lower() in [\"exit\", \"quit\"]:\n",
        "        print(\"Goodbye!\")\n",
        "        exit()\n",
        "\n",
        "    try:\n",
        "        # Prepare the request body\n",
        "        request_body = json.dumps({\n",
        "            \"anthropic_version\": \"bedrock-2023-05-31\",\n",
        "            \"max_tokens\": 300,\n",
        "            \"temperature\": 0.7,\n",
        "            \"messages\": [\n",
        "                {\"role\": \"user\", \"content\": user_query}\n",
        "            ]\n",
        "        })\n",
        "        print(\" request_body: \", request_body)\n",
        "\n",
        "        # Invoke the Bedrock model\n",
        "        response = bedrock_runtime_client.invoke_model(\n",
        "            modelId=model_id,\n",
        "            body=request_body\n",
        "        )\n",
        "        print(\" response: \", response)\n",
        "\n",
        "        # Parse the response\n",
        "        response_body = json.loads(response['body'].read())\n",
        "        output = response_body['content'][0]['text']\n",
        "        print(\" response_body: \", response_body)\n",
        "\n",
        "        # Display Bedrock model response\n",
        "        st.write(\"MathNEXT response\")\n",
        "        st.write(output)\n",
        "\n",
        "        # Generate speech from the Bedrock response\n",
        "        audio_file = generate_speech(output)\n",
        "        print(\" audio_file: \", audio_file)\n",
        "\n",
        "        if audio_file:\n",
        "            # Provide a link to download the speech\n",
        "            with open(audio_file, 'rb') as file:\n",
        "                st.audio(file.read(), format=\"audio/mp3\")\n",
        "\n",
        "            st.download_button(\n",
        "                label=\"Download Speech\",\n",
        "                data=open(audio_file, 'rb'),\n",
        "                file_name=audio_file,\n",
        "                mime='audio/mp3'\n",
        "            )\n",
        "    except ClientError as e:\n",
        "        error_code = e.response['Error']['Code']\n",
        "        error_message = e.response['Error']['Message']\n",
        "        st.error(f\"Error: {error_code} - {error_message}\")\n",
        "    except Exception as e:\n",
        "        st.error(f\"Unexpected error: {str(e)}\")\n",
        "\n",
        "    # Print debugging information\n",
        "    print(\"\\nDebugging Information:\")\n",
        "    print(f\"AWS Region: {bedrock_runtime_client.meta.region_name}\")\n",
        "    print(f\"Model used: {model_id}\")\n",
        "    print(\"Please ensure you have the correct permissions and that this model is available in your region.\")"
      ],
      "metadata": {
        "id": "RdUlbUHH4QGB"
      },
      "execution_count": null,
      "outputs": []
    },
    {
      "cell_type": "code",
      "source": [
        "!streamlit run app.py & npx localtunnel --port 8501"
      ],
      "metadata": {
        "id": "XQyyf4eL69H8"
      },
      "execution_count": null,
      "outputs": []
    }
  ]
}