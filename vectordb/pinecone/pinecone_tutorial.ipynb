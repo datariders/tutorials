{
  "nbformat": 4,
  "nbformat_minor": 0,
  "metadata": {
    "colab": {
      "provenance": []
    },
    "kernelspec": {
      "name": "python3",
      "display_name": "Python 3"
    },
    "language_info": {
      "name": "python"
    }
  },
  "cells": [
    {
      "cell_type": "markdown",
      "source": [
        "# **Pinecone tutorial**\n",
        "This is the sample notebook from the Pinecone site.\n",
        "\n",
        "# **How to run in Colab:**\n",
        "\n",
        "This notebook can be run on Google Colab and stand alone python development environments. Click here to run on colab:\n",
        "\n",
        "[![Open In Colab](https://colab.research.google.com/assets/colab-badge.svg)](https://colab.research.google.com/github/datariders/tutorials/blob/main/vectordb/pinecone/pinecone_tutorial.ipynb)\n",
        "\n",
        "\n",
        "# **References:**\n",
        "https://docs.pinecone.io/guides/get-started/quickstart\n"
      ],
      "metadata": {
        "id": "Jsj9-pPWismC"
      }
    },
    {
      "cell_type": "code",
      "execution_count": 1,
      "metadata": {
        "colab": {
          "base_uri": "https://localhost:8080/"
        },
        "id": "8NxrE9pNih0f",
        "outputId": "5ce385d7-19a9-460d-b118-a2aa6d0f0bbb"
      },
      "outputs": [
        {
          "output_type": "stream",
          "name": "stdout",
          "text": [
            "Requirement already satisfied: pinecone-client in /usr/local/lib/python3.10/dist-packages (4.1.2)\n",
            "Requirement already satisfied: certifi>=2019.11.17 in /usr/local/lib/python3.10/dist-packages (from pinecone-client) (2024.7.4)\n",
            "Requirement already satisfied: pinecone-plugin-interface<0.0.8,>=0.0.7 in /usr/local/lib/python3.10/dist-packages (from pinecone-client) (0.0.7)\n",
            "Requirement already satisfied: tqdm>=4.64.1 in /usr/local/lib/python3.10/dist-packages (from pinecone-client) (4.66.4)\n",
            "Requirement already satisfied: typing-extensions>=3.7.4 in /usr/local/lib/python3.10/dist-packages (from pinecone-client) (4.12.2)\n",
            "Requirement already satisfied: urllib3>=1.26.0 in /usr/local/lib/python3.10/dist-packages (from pinecone-client) (2.0.7)\n"
          ]
        }
      ],
      "source": [
        "!pip3 install pinecone-client"
      ]
    },
    {
      "cell_type": "code",
      "source": [
        "import os\n",
        "from getpass import getpass\n",
        "\n",
        "#if os.environ.get(\"OPENAI_API_KEY\") is None:\n",
        "pinecone_api_key = getpass(\"🔑 Enter your Pinecone API key and hit Enter:\")\n",
        "os.environ[\"PINECONE_API_KEY\"] = pinecone_api_key\n",
        "print(\"Pinecone key has been entered\")"
      ],
      "metadata": {
        "colab": {
          "base_uri": "https://localhost:8080/"
        },
        "id": "XaZdV98wkCCm",
        "outputId": "418f3bda-9e68-4290-bcaf-24ba801b42d8"
      },
      "execution_count": 2,
      "outputs": [
        {
          "output_type": "stream",
          "name": "stdout",
          "text": [
            "🔑 Enter your Pinecone API key and hit Enter:··········\n",
            "Pinecone key has been entered\n"
          ]
        }
      ]
    },
    {
      "cell_type": "code",
      "source": [
        "from pinecone import Pinecone, ServerlessSpec\n",
        "\n",
        "pc = Pinecone(api_key=\"957cfa5c-72fd-44f0-9a95-d74fe3bc2144\")\n",
        "print(\" pc: \", pc)"
      ],
      "metadata": {
        "colab": {
          "base_uri": "https://localhost:8080/"
        },
        "id": "DgqbnSJlkd5i",
        "outputId": "e9c34fdc-b17a-41da-e66b-c9317c833a32"
      },
      "execution_count": 3,
      "outputs": [
        {
          "output_type": "stream",
          "name": "stdout",
          "text": [
            " pc:  <pinecone.control.pinecone.Pinecone object at 0x7aa3e44b0100>\n"
          ]
        }
      ]
    },
    {
      "cell_type": "markdown",
      "source": [
        "# **Create index**\n",
        "\n",
        "Then create a serverless index named \"quickstart\" that performs nearest-neighbor search using the cosine distance metric for 2-dimensional vectors:"
      ],
      "metadata": {
        "id": "iloH84EwkyDo"
      }
    },
    {
      "cell_type": "code",
      "source": [
        "index_name = \"quickstart\"\n",
        "\n",
        "if index_name not in pc.list_indexes().names():\n",
        "    pc.create_index(\n",
        "        name=index_name,\n",
        "        dimension=2,\n",
        "        metric=\"cosine\",\n",
        "        spec=ServerlessSpec(\n",
        "            cloud='aws',\n",
        "            region='us-east-1'\n",
        "        )\n",
        "    )"
      ],
      "metadata": {
        "id": "_7jzTMaek2OP"
      },
      "execution_count": 6,
      "outputs": []
    },
    {
      "cell_type": "code",
      "source": [
        "index = pc.Index(index_name)\n",
        "\n",
        "index.upsert(\n",
        "    vectors=[\n",
        "        {\"id\": \"vec1\", \"values\": [1.0, 1.5]},\n",
        "        {\"id\": \"vec2\", \"values\": [2.0, 1.0]},\n",
        "        {\"id\": \"vec3\", \"values\": [0.1, 3.0]},\n",
        "    ],\n",
        "    namespace=\"ns1\"\n",
        ")\n",
        "\n",
        "index.upsert(\n",
        "    vectors=[\n",
        "        {\"id\": \"vec1\", \"values\": [1.0, -2.5]},\n",
        "        {\"id\": \"vec2\", \"values\": [3.0, -2.0]},\n",
        "        {\"id\": \"vec3\", \"values\": [0.5, -1.5]},\n",
        "    ],\n",
        "    namespace=\"ns2\"\n",
        ")"
      ],
      "metadata": {
        "colab": {
          "base_uri": "https://localhost:8080/"
        },
        "id": "sj8_LAw8l63d",
        "outputId": "0fbaca42-1b51-4c4c-ac98-5e6838637476"
      },
      "execution_count": 7,
      "outputs": [
        {
          "output_type": "execute_result",
          "data": {
            "text/plain": [
              "{'upserted_count': 3}"
            ]
          },
          "metadata": {},
          "execution_count": 7
        }
      ]
    },
    {
      "cell_type": "code",
      "source": [
        "print(index.describe_index_stats())\n",
        "\n",
        "# Returns:\n",
        "# {'dimension': 2,\n",
        "#  'index_fullness': 0.0,\n",
        "#  'namespaces': {'ns1': {'vector_count': 3}, 'ns2': {'vector_count': 3}},\n",
        "#  'total_vector_count': 6}"
      ],
      "metadata": {
        "colab": {
          "base_uri": "https://localhost:8080/"
        },
        "id": "qYqsSgbqmCWq",
        "outputId": "9d103283-a750-4a3d-fecb-d827ab78f27c"
      },
      "execution_count": 8,
      "outputs": [
        {
          "output_type": "stream",
          "name": "stdout",
          "text": [
            "{'dimension': 2,\n",
            " 'index_fullness': 0.0,\n",
            " 'namespaces': {'ns1': {'vector_count': 3}, 'ns2': {'vector_count': 3}},\n",
            " 'total_vector_count': 6}\n"
          ]
        }
      ]
    },
    {
      "cell_type": "code",
      "source": [
        "query_results1 = index.query(\n",
        "    namespace=\"ns1\",\n",
        "    vector=[1.0, 1.5],\n",
        "    top_k=3,\n",
        "    include_values=True\n",
        ")\n",
        "print(\" query_results1: \", query_results1)\n",
        "\n",
        "query_results2 = index.query(\n",
        "    namespace=\"ns2\",\n",
        "    vector=[1.0,-2.5],\n",
        "    top_k=3,\n",
        "    include_values=True\n",
        ")\n",
        "print(\" query_results2: \", query_results2)\n",
        "\n",
        "# Returns:\n",
        "# {'matches': [{'id': 'vec1', 'score': 1.0, 'values': [1.0, 1.5]},\n",
        "#              {'id': 'vec2', 'score': 0.868243158, 'values': [2.0, 1.0]},\n",
        "#              {'id': 'vec3', 'score': 0.850068152, 'values': [0.1, 3.0]}],\n",
        "#  'namespace': 'ns1',\n",
        "#  'usage': {'read_units': 6}}\n",
        "# {'matches': [{'id': 'vec1', 'score': 1.0, 'values': [1.0, -2.5]},\n",
        "#              {'id': 'vec3', 'score': 0.998274386, 'values': [0.5, -1.5]},\n",
        "#              {'id': 'vec2', 'score': 0.824041963, 'values': [3.0, -2.0]}],\n",
        "#  'namespace': 'ns2',\n",
        "#  'usage': {'read_units': 6}}"
      ],
      "metadata": {
        "colab": {
          "base_uri": "https://localhost:8080/"
        },
        "id": "ylVokI7BmGYi",
        "outputId": "9ab40a62-669e-4293-91fb-c2b5dc34dc80"
      },
      "execution_count": 9,
      "outputs": [
        {
          "output_type": "stream",
          "name": "stdout",
          "text": [
            " query_results1:  {'matches': [{'id': 'vec1', 'score': 1.0, 'values': [1.0, 1.5]},\n",
            "             {'id': 'vec2', 'score': 0.868243158, 'values': [2.0, 1.0]},\n",
            "             {'id': 'vec3', 'score': 0.850068152, 'values': [0.1, 3.0]}],\n",
            " 'namespace': 'ns1',\n",
            " 'usage': {'read_units': 6}}\n",
            " query_results2:  {'matches': [{'id': 'vec1', 'score': 1.0, 'values': [1.0, -2.5]},\n",
            "             {'id': 'vec3', 'score': 0.998274386, 'values': [0.5, -1.5]},\n",
            "             {'id': 'vec2', 'score': 0.824041963, 'values': [3.0, -2.0]}],\n",
            " 'namespace': 'ns2',\n",
            " 'usage': {'read_units': 6}}\n"
          ]
        }
      ]
    },
    {
      "cell_type": "code",
      "source": [
        "pc.delete_index(index_name)"
      ],
      "metadata": {
        "id": "IsztsQgemcmc"
      },
      "execution_count": 10,
      "outputs": []
    }
  ]
}