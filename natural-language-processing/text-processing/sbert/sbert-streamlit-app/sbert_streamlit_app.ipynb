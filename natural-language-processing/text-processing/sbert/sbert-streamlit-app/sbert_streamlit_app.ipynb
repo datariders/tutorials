{
  "nbformat": 4,
  "nbformat_minor": 0,
  "metadata": {
    "colab": {
      "provenance": []
    },
    "kernelspec": {
      "name": "python3",
      "display_name": "Python 3"
    },
    "language_info": {
      "name": "python"
    }
  },
  "cells": [
    {
      "cell_type": "markdown",
      "source": [
        "# SBERT Streamlit app from Colab notebook\n",
        "\n",
        "This tutorial has the sample code to run a SBERT Streamlit app from Colab notebook.\n",
        "\n",
        "### References\n",
        "\n",
        "- https://huggingface.co/sentence-transformers\n",
        "\n",
        "\n",
        "- https://sbert.net/\n",
        "\n",
        "\n",
        "- https://bekushal.medium.com/how-to-find-sentence-similarity-using-transformer-embeddings-bert-vs-sbert-cb7b331c6a09\n",
        "\n",
        "\n",
        "\n",
        "### How to run\n",
        "To open the notebook in Colab, please click on the badge here:"
      ],
      "metadata": {
        "id": "b2JgDD0LABj4"
      }
    },
    {
      "cell_type": "markdown",
      "source": [
        "[![Open In Colab](https://colab.research.google.com/assets/colab-badge.svg)](https://colab.research.google.com/github/datariders/tutorials/blob/main/natural-language-processing/text-processing/sbert/sbert-streamlit-app/sbert_streamlit_app.ipynb)"
      ],
      "metadata": {
        "id": "a_cAJX-b-xJ1"
      }
    },
    {
      "cell_type": "code",
      "execution_count": null,
      "metadata": {
        "id": "dw8meXy8308T"
      },
      "outputs": [],
      "source": [
        "! pip3 install -U sentence-transformers streamlit"
      ]
    },
    {
      "cell_type": "code",
      "source": [
        "!wget -q -O - ipv4.icanhazip.com"
      ],
      "metadata": {
        "id": "m9AchVth4Owr"
      },
      "execution_count": null,
      "outputs": []
    },
    {
      "cell_type": "code",
      "source": [
        "%%writefile app.py\n",
        "\n",
        "import streamlit as st\n",
        "\n",
        "# Import the Sentence Transformer library\n",
        "from sentence_transformers import SentenceTransformer, util\n",
        "\n",
        "\n",
        "MODEL_SENTENCE_TRANSFORMERS_ALL_MINI_LM_L6_V2 = \"sentence-transformers/all-MiniLM-L6-v2\"\n",
        "\n",
        "\n",
        "st.write('# TEXT SIMILARITY')\n",
        "\n",
        "# There are several different Sentence Transformer models available on Hugging Face\n",
        "model = SentenceTransformer(MODEL_SENTENCE_TRANSFORMERS_ALL_MINI_LM_L6_V2)\n",
        "\n",
        "sentence_1 = st.text_area('Enter the first text: ')\n",
        "sentence_1_embedding = model.encode(sentence_1, convert_to_tensor=True)\n",
        "\n",
        "sentence_2 = st.text_area('Enter the second text: ')\n",
        "sentence_2_embedding = model.encode(sentence_2, convert_to_tensor=True)\n",
        "\n",
        "# Find the similarity between the two embeddings\n",
        "cosine_similarity = util.pytorch_cos_sim(sentence_1_embedding, sentence_2_embedding)\n",
        "print(\" cosine_similarity: \", cosine_similarity)\n",
        "\n",
        "st.write(cosine_similarity)"
      ],
      "metadata": {
        "id": "RdUlbUHH4QGB"
      },
      "execution_count": null,
      "outputs": []
    },
    {
      "cell_type": "code",
      "source": [
        "!streamlit run app.py & npx localtunnel --port 8501"
      ],
      "metadata": {
        "id": "XQyyf4eL69H8"
      },
      "execution_count": null,
      "outputs": []
    }
  ]
}